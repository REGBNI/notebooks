{
 "cells": [
  {
   "cell_type": "markdown",
   "id": "58bdf065",
   "metadata": {},
   "source": [
    "# My Jupyter Notebook on IBM Watson Studio"
   ]
  },
  {
   "cell_type": "markdown",
   "id": "f3237922",
   "metadata": {},
   "source": [
    "**Raúl Godínez**"
   ]
  },
  {
   "cell_type": "markdown",
   "id": "bbcb0bca",
   "metadata": {},
   "source": [
    "My actual job position is Senior Risk Analysis Analyst"
   ]
  },
  {
   "cell_type": "markdown",
   "id": "a9b3111b",
   "metadata": {},
   "source": [
    "_I'm interested in data science because it has great applications in the financial and credit markets. For example, credit score modeling, decision tree, and other statistical tools. Making troubleshooting easier._"
   ]
  },
  {
   "cell_type": "markdown",
   "id": "e9886050",
   "metadata": {},
   "source": [
    "### Percentage change"
   ]
  },
  {
   "cell_type": "code",
   "execution_count": 1,
   "id": "794fbb19",
   "metadata": {},
   "outputs": [
    {
     "data": {
      "text/plain": [
       "0.25"
      ]
     },
     "execution_count": 1,
     "metadata": {},
     "output_type": "execute_result"
    }
   ],
   "source": [
    "(100-80)/80"
   ]
  },
  {
   "cell_type": "markdown",
   "id": "f2203460",
   "metadata": {},
   "source": [
    "[Wikipedia](https://es.wikipedia.org/wiki/Wikipedia:Portada \"Wikipedia\")\n",
    "- O Rei Pelé is dead :/\n",
    "- Merry XMas\n",
    "| Name | Middle name | Last name |\n",
    "|------|-------------|-----------|\n",
    "| Raul | Enrique     | Godinez   |"
   ]
  },
  {
   "cell_type": "code",
   "execution_count": null,
   "id": "9d20ad1d",
   "metadata": {},
   "outputs": [],
   "source": []
  },
  {
   "cell_type": "code",
   "execution_count": null,
   "id": "84f58bdd",
   "metadata": {},
   "outputs": [],
   "source": []
  }
 ],
 "metadata": {
  "kernelspec": {
   "display_name": "Python 3 (ipykernel)",
   "language": "python",
   "name": "python3"
  },
  "language_info": {
   "codemirror_mode": {
    "name": "ipython",
    "version": 3
   },
   "file_extension": ".py",
   "mimetype": "text/x-python",
   "name": "python",
   "nbconvert_exporter": "python",
   "pygments_lexer": "ipython3",
   "version": "3.11.1"
  }
 },
 "nbformat": 4,
 "nbformat_minor": 5
}
